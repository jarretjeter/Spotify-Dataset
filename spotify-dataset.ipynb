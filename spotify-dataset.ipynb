{
 "cells": [
  {
   "cell_type": "code",
   "execution_count": 28,
   "metadata": {},
   "outputs": [],
   "source": [
    "import pandas as pd\n",
    "albums = pd.read_csv(\"./data/spotify_albums.csv\", header=0)\n",
    "artists = pd.read_csv(\"./data/spotify_artists.csv\", header=0)\n",
    "tracks = pd.read_csv(\"./data/spotify_tracks.csv\", header=0)\n"
   ]
  },
  {
   "cell_type": "code",
   "execution_count": 45,
   "metadata": {},
   "outputs": [
    {
     "data": {
      "text/plain": [
       "(101939, 32)"
      ]
     },
     "execution_count": 45,
     "metadata": {},
     "output_type": "execute_result"
    }
   ],
   "source": [
    "albums.head()\n",
    "## Gives me the first few rows and all columns in a dataframe. Contains album information, like date released, album name and multiple ids. Some links to spotify. 'Row 0' 'album_type' listed as a single though its 'total_tracks' column is 6. Has an 'Unnamed:0' column that may need to be removed.\n",
    "albums.tail()\n",
    "## Gives me the last few rows of the dataset and all columns. I see row '75509' columns' 'release_date' doesn't have a precise date and so 'release_date_precision's' value is changed to year.\n",
    "albums.shape\n",
    "## Returns a tuple telling me that there are 75511 rows and 16 columns in the 'albums' dataset\n",
    "\n",
    "\n",
    "artists.head()\n",
    "## Gives me the first few rows of a dataset. Row 1's 'genres' column is missing a value. Has an 'Unnamed:0' column.\n",
    "artists.tail()\n",
    "## Gives me the last few rows of a dataset. No missing values. Not sure if the 'artist_popularity' correlates with the values in 'followers'\n",
    "artists.shape\n",
    "## There are 56129 rows and 9 columns in this dataset\n",
    "\n",
    "\n",
    "tracks.head()\n",
    "## Returns the first few rows of the 'tracks' dataset and not all columns are displayed. Has multiple datatypes and an 'Unnamed:0' column.\n",
    "tracks.tail()\n",
    "## Displays the last few rows of the 'tracks' dataset.\n",
    "tracks.shape\n",
    "## Tells me that there are 101939 rows and 32 columns in the 'tracks' dataset\n"
   ]
  }
 ],
 "metadata": {
  "interpreter": {
   "hash": "916dbcbb3f70747c44a77c7bcd40155683ae19c65e1c03b4aa3499c5328201f1"
  },
  "kernelspec": {
   "display_name": "Python 3.8.10 64-bit",
   "language": "python",
   "name": "python3"
  },
  "language_info": {
   "codemirror_mode": {
    "name": "ipython",
    "version": 3
   },
   "file_extension": ".py",
   "mimetype": "text/x-python",
   "name": "python",
   "nbconvert_exporter": "python",
   "pygments_lexer": "ipython3",
   "version": "3.7.13"
  },
  "orig_nbformat": 4
 },
 "nbformat": 4,
 "nbformat_minor": 2
}
